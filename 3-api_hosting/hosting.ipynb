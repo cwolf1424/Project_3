{
 "cells": [
  {
   "cell_type": "markdown",
   "metadata": {},
   "source": [
    "## Hosing Our API Using Cleaned Data from Database\n",
    "-----"
   ]
  },
  {
   "cell_type": "code",
   "execution_count": null,
   "metadata": {
    "vscode": {
     "languageId": "plaintext"
    }
   },
   "outputs": [],
   "source": [
    "# Using Flask\n",
    "\n",
    "# endpoints\n",
    "#----------\n",
    "# getLeagues()                                      returns the leagues for the dropdown\n",
    "# getTeamsForLeague(league_id)                      returns the teams for the given league for the dropdown\n",
    "# getPositions()                                    returns the positions for the dropdown\n",
    "# getPlayerStats(league_id, team_id, position_id)   returns player stats data for the given league/team/position combo to populate grid\n",
    "# getPlayerPhotoAndDemographics(player_id)          returns player photo and data for the given player to populate visual elements\n"
   ]
  }
 ],
 "metadata": {
  "language_info": {
   "name": "python"
  }
 },
 "nbformat": 4,
 "nbformat_minor": 2
}
