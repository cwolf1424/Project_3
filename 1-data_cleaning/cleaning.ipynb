{
 "cells": [
  {
   "cell_type": "markdown",
   "metadata": {},
   "source": [
    "## Cleaning the Data\n",
    "-----"
   ]
  },
  {
   "cell_type": "markdown",
   "metadata": {},
   "source": [
    "### Setup:\n",
    "---"
   ]
  },
  {
   "cell_type": "code",
   "execution_count": 192,
   "metadata": {},
   "outputs": [],
   "source": [
    "# Import dependencies\n",
    "import pandas as pd\n",
    "import datetime as dt"
   ]
  },
  {
   "cell_type": "code",
   "execution_count": 193,
   "metadata": {},
   "outputs": [],
   "source": [
    "# Grab the CSV\n",
    "athelete_stats_df = pd.read_csv(\"initial_unclean_csv/unclean_data.csv\", encoding=\"utf8\")"
   ]
  },
  {
   "cell_type": "code",
   "execution_count": 194,
   "metadata": {},
   "outputs": [
    {
     "data": {
      "text/html": [
       "<div>\n",
       "<style scoped>\n",
       "    .dataframe tbody tr th:only-of-type {\n",
       "        vertical-align: middle;\n",
       "    }\n",
       "\n",
       "    .dataframe tbody tr th {\n",
       "        vertical-align: top;\n",
       "    }\n",
       "\n",
       "    .dataframe thead th {\n",
       "        text-align: right;\n",
       "    }\n",
       "</style>\n",
       "<table border=\"1\" class=\"dataframe\">\n",
       "  <thead>\n",
       "    <tr style=\"text-align: right;\">\n",
       "      <th></th>\n",
       "      <th>player_name</th>\n",
       "      <th>team</th>\n",
       "      <th>league</th>\n",
       "      <th>position</th>\n",
       "      <th>jersey_number</th>\n",
       "      <th>goals</th>\n",
       "      <th>assists</th>\n",
       "      <th>yellow_cards</th>\n",
       "      <th>red_cards</th>\n",
       "      <th>shots</th>\n",
       "      <th>shots_on_goal</th>\n",
       "      <th>saves</th>\n",
       "      <th>clean_sheets</th>\n",
       "      <th>goals_against</th>\n",
       "      <th>photo_url</th>\n",
       "      <th>height</th>\n",
       "      <th>weight</th>\n",
       "      <th>birthdate</th>\n",
       "      <th>nationality</th>\n",
       "    </tr>\n",
       "  </thead>\n",
       "  <tbody>\n",
       "    <tr>\n",
       "      <th>0</th>\n",
       "      <td>Sophia Smith</td>\n",
       "      <td>Portland Thorns FC</td>\n",
       "      <td>nwsl</td>\n",
       "      <td>Forward</td>\n",
       "      <td>9.0</td>\n",
       "      <td>11</td>\n",
       "      <td>5</td>\n",
       "      <td>2</td>\n",
       "      <td>0</td>\n",
       "      <td>75</td>\n",
       "      <td>39</td>\n",
       "      <td>0</td>\n",
       "      <td>2</td>\n",
       "      <td>16</td>\n",
       "      <td>https://d2nkt8hgeld8zj.cloudfront.net\\images\\2...</td>\n",
       "      <td>5' 6\"</td>\n",
       "      <td>121 lbs</td>\n",
       "      <td>2000-08-10T07:00Z</td>\n",
       "      <td>USA</td>\n",
       "    </tr>\n",
       "    <tr>\n",
       "      <th>1</th>\n",
       "      <td>Sophie Schmidt</td>\n",
       "      <td>Houston Dash</td>\n",
       "      <td>nwsl</td>\n",
       "      <td>Midfielder</td>\n",
       "      <td>13.0</td>\n",
       "      <td>0</td>\n",
       "      <td>0</td>\n",
       "      <td>3</td>\n",
       "      <td>0</td>\n",
       "      <td>17</td>\n",
       "      <td>3</td>\n",
       "      <td>0</td>\n",
       "      <td>8</td>\n",
       "      <td>15</td>\n",
       "      <td>https://d2nkt8hgeld8zj.cloudfront.net\\images\\2...</td>\n",
       "      <td>5' 8\"</td>\n",
       "      <td>157 lbs</td>\n",
       "      <td>1988-06-28T07:00Z</td>\n",
       "      <td>Canada</td>\n",
       "    </tr>\n",
       "    <tr>\n",
       "      <th>2</th>\n",
       "      <td>Christine Sinclair</td>\n",
       "      <td>Portland Thorns FC</td>\n",
       "      <td>nwsl</td>\n",
       "      <td>Forward</td>\n",
       "      <td>12.0</td>\n",
       "      <td>3</td>\n",
       "      <td>1</td>\n",
       "      <td>0</td>\n",
       "      <td>0</td>\n",
       "      <td>27</td>\n",
       "      <td>10</td>\n",
       "      <td>0</td>\n",
       "      <td>1</td>\n",
       "      <td>12</td>\n",
       "      <td>https://d2nkt8hgeld8zj.cloudfront.net\\images\\2...</td>\n",
       "      <td>5' 9\"</td>\n",
       "      <td>148 lbs</td>\n",
       "      <td>1983-06-12T07:00Z</td>\n",
       "      <td>Canada</td>\n",
       "    </tr>\n",
       "    <tr>\n",
       "      <th>3</th>\n",
       "      <td>Abby Erceg</td>\n",
       "      <td>Racing Louisville FC</td>\n",
       "      <td>nwsl</td>\n",
       "      <td>Defender</td>\n",
       "      <td>20.0</td>\n",
       "      <td>2</td>\n",
       "      <td>0</td>\n",
       "      <td>1</td>\n",
       "      <td>0</td>\n",
       "      <td>15</td>\n",
       "      <td>6</td>\n",
       "      <td>0</td>\n",
       "      <td>6</td>\n",
       "      <td>22</td>\n",
       "      <td>https://d2nkt8hgeld8zj.cloudfront.net\\images\\2...</td>\n",
       "      <td>5' 10\"</td>\n",
       "      <td>150 lbs</td>\n",
       "      <td>1989-11-20T08:00Z</td>\n",
       "      <td>New Zealand</td>\n",
       "    </tr>\n",
       "    <tr>\n",
       "      <th>4</th>\n",
       "      <td>Nadia Nadim</td>\n",
       "      <td>Racing Louisville FC</td>\n",
       "      <td>nwsl</td>\n",
       "      <td>Forward</td>\n",
       "      <td>10.0</td>\n",
       "      <td>1</td>\n",
       "      <td>0</td>\n",
       "      <td>0</td>\n",
       "      <td>0</td>\n",
       "      <td>14</td>\n",
       "      <td>5</td>\n",
       "      <td>0</td>\n",
       "      <td>0</td>\n",
       "      <td>5</td>\n",
       "      <td>https://d2nkt8hgeld8zj.cloudfront.net\\images\\2...</td>\n",
       "      <td>5' 9\"</td>\n",
       "      <td>NaN</td>\n",
       "      <td>1988-01-02T08:00Z</td>\n",
       "      <td>Denmark</td>\n",
       "    </tr>\n",
       "  </tbody>\n",
       "</table>\n",
       "</div>"
      ],
      "text/plain": [
       "          player_name                  team league    position  jersey_number  \\\n",
       "0        Sophia Smith    Portland Thorns FC   nwsl     Forward            9.0   \n",
       "1      Sophie Schmidt          Houston Dash   nwsl  Midfielder           13.0   \n",
       "2  Christine Sinclair    Portland Thorns FC   nwsl     Forward           12.0   \n",
       "3          Abby Erceg  Racing Louisville FC   nwsl    Defender           20.0   \n",
       "4         Nadia Nadim  Racing Louisville FC   nwsl     Forward           10.0   \n",
       "\n",
       "   goals  assists  yellow_cards  red_cards  shots  shots_on_goal  saves  \\\n",
       "0     11        5             2          0     75             39      0   \n",
       "1      0        0             3          0     17              3      0   \n",
       "2      3        1             0          0     27             10      0   \n",
       "3      2        0             1          0     15              6      0   \n",
       "4      1        0             0          0     14              5      0   \n",
       "\n",
       "   clean_sheets  goals_against  \\\n",
       "0             2             16   \n",
       "1             8             15   \n",
       "2             1             12   \n",
       "3             6             22   \n",
       "4             0              5   \n",
       "\n",
       "                                           photo_url  height   weight  \\\n",
       "0  https://d2nkt8hgeld8zj.cloudfront.net\\images\\2...   5' 6\"  121 lbs   \n",
       "1  https://d2nkt8hgeld8zj.cloudfront.net\\images\\2...   5' 8\"  157 lbs   \n",
       "2  https://d2nkt8hgeld8zj.cloudfront.net\\images\\2...   5' 9\"  148 lbs   \n",
       "3  https://d2nkt8hgeld8zj.cloudfront.net\\images\\2...  5' 10\"  150 lbs   \n",
       "4  https://d2nkt8hgeld8zj.cloudfront.net\\images\\2...   5' 9\"      NaN   \n",
       "\n",
       "           birthdate  nationality  \n",
       "0  2000-08-10T07:00Z          USA  \n",
       "1  1988-06-28T07:00Z       Canada  \n",
       "2  1983-06-12T07:00Z       Canada  \n",
       "3  1989-11-20T08:00Z  New Zealand  \n",
       "4  1988-01-02T08:00Z      Denmark  "
      ]
     },
     "execution_count": 194,
     "metadata": {},
     "output_type": "execute_result"
    }
   ],
   "source": [
    "# Display as dataframe\n",
    "athelete_stats_df.head()"
   ]
  },
  {
   "cell_type": "markdown",
   "metadata": {},
   "source": [
    "### Cleaning:\n",
    "---"
   ]
  },
  {
   "cell_type": "markdown",
   "metadata": {},
   "source": [
    "#### Convert Height"
   ]
  },
  {
   "cell_type": "code",
   "execution_count": 206,
   "metadata": {},
   "outputs": [],
   "source": [
    "# Split current heights\n",
    "split_heights = athelete_stats_df[\"height\"]\n",
    "split_heights = split_heights.str.split(\"'\", n=1, expand=True)"
   ]
  },
  {
   "cell_type": "code",
   "execution_count": 207,
   "metadata": {},
   "outputs": [
    {
     "data": {
      "text/plain": [
       "0    5.0\n",
       "1    5.0\n",
       "2    5.0\n",
       "3    5.0\n",
       "4    5.0\n",
       "Name: 0, dtype: float64"
      ]
     },
     "execution_count": 207,
     "metadata": {},
     "output_type": "execute_result"
    }
   ],
   "source": [
    "# Remove everthing but the numbers from the feet\n",
    "# Convert to float for math\n",
    "heights_feet = split_heights[0].astype(\"float\")\n",
    "heights_feet.head(5)"
   ]
  },
  {
   "cell_type": "code",
   "execution_count": 208,
   "metadata": {},
   "outputs": [
    {
     "data": {
      "text/plain": [
       "0     6.0\n",
       "1     8.0\n",
       "2     9.0\n",
       "3    10.0\n",
       "4     9.0\n",
       "Name: 0, dtype: float64"
      ]
     },
     "execution_count": 208,
     "metadata": {},
     "output_type": "execute_result"
    }
   ],
   "source": [
    "# Remove everything but the nubmers from the inches\n",
    "heights_inches = split_heights[1]\n",
    "\n",
    "split_heights_inches = heights_inches.str.split('\"', n=1, expand=True)\n",
    "\n",
    "# Convert to float for math\n",
    "split_heights_inches = split_heights_inches[0].astype(\"float\")\n",
    "heights_inches = split_heights_inches\n",
    "heights_inches.head(5)"
   ]
  },
  {
   "cell_type": "code",
   "execution_count": 209,
   "metadata": {},
   "outputs": [],
   "source": [
    "# Converting inches to feet\n",
    "inches_in_feet = []\n",
    "for measurement in heights_inches:\n",
    "    cur_feet = measurement/12\n",
    "    inches_in_feet.append(cur_feet)\n",
    "   "
   ]
  },
  {
   "cell_type": "code",
   "execution_count": 210,
   "metadata": {},
   "outputs": [
    {
     "data": {
      "text/html": [
       "<div>\n",
       "<style scoped>\n",
       "    .dataframe tbody tr th:only-of-type {\n",
       "        vertical-align: middle;\n",
       "    }\n",
       "\n",
       "    .dataframe tbody tr th {\n",
       "        vertical-align: top;\n",
       "    }\n",
       "\n",
       "    .dataframe thead th {\n",
       "        text-align: right;\n",
       "    }\n",
       "</style>\n",
       "<table border=\"1\" class=\"dataframe\">\n",
       "  <thead>\n",
       "    <tr style=\"text-align: right;\">\n",
       "      <th></th>\n",
       "      <th>heights_ft1</th>\n",
       "      <th>heights_ft2</th>\n",
       "    </tr>\n",
       "  </thead>\n",
       "  <tbody>\n",
       "    <tr>\n",
       "      <th>0</th>\n",
       "      <td>5.0</td>\n",
       "      <td>0.500000</td>\n",
       "    </tr>\n",
       "    <tr>\n",
       "      <th>1</th>\n",
       "      <td>5.0</td>\n",
       "      <td>0.666667</td>\n",
       "    </tr>\n",
       "    <tr>\n",
       "      <th>2</th>\n",
       "      <td>5.0</td>\n",
       "      <td>0.750000</td>\n",
       "    </tr>\n",
       "    <tr>\n",
       "      <th>3</th>\n",
       "      <td>5.0</td>\n",
       "      <td>0.833333</td>\n",
       "    </tr>\n",
       "    <tr>\n",
       "      <th>4</th>\n",
       "      <td>5.0</td>\n",
       "      <td>0.750000</td>\n",
       "    </tr>\n",
       "  </tbody>\n",
       "</table>\n",
       "</div>"
      ],
      "text/plain": [
       "   heights_ft1  heights_ft2\n",
       "0          5.0     0.500000\n",
       "1          5.0     0.666667\n",
       "2          5.0     0.750000\n",
       "3          5.0     0.833333\n",
       "4          5.0     0.750000"
      ]
     },
     "execution_count": 210,
     "metadata": {},
     "output_type": "execute_result"
    }
   ],
   "source": [
    "# Create dataframe with new heights colums, both in feet\n",
    "split_heights_in_ft = {\n",
    "    \"heights_ft1\": heights_feet,\n",
    "    \"heights_ft2\": inches_in_feet\n",
    "}\n",
    "split_heights_in_ft_df = pd.DataFrame(split_heights_in_ft)\n",
    "split_heights_in_ft_df.head(5)"
   ]
  },
  {
   "cell_type": "code",
   "execution_count": 211,
   "metadata": {},
   "outputs": [],
   "source": [
    "# Adding feet and converted inches column to get new total feet measurments column with decimals\n",
    "new_height = split_heights_in_ft_df[\"heights_ft1\"] + split_heights_in_ft_df[\"heights_ft2\"]\n",
    "\n",
    "# Round the combined height\n",
    "new_height = round(new_height,2)"
   ]
  },
  {
   "cell_type": "code",
   "execution_count": 212,
   "metadata": {},
   "outputs": [
    {
     "data": {
      "text/plain": [
       "0    5.50\n",
       "1    5.67\n",
       "2    5.75\n",
       "3    5.83\n",
       "4    5.75\n",
       "dtype: float64"
      ]
     },
     "execution_count": 212,
     "metadata": {},
     "output_type": "execute_result"
    }
   ],
   "source": [
    "# Display cleaned data\n",
    "new_height.head(5)"
   ]
  },
  {
   "cell_type": "markdown",
   "metadata": {},
   "source": [
    "#### Convert Weight"
   ]
  },
  {
   "cell_type": "code",
   "execution_count": 213,
   "metadata": {},
   "outputs": [
    {
     "data": {
      "text/plain": [
       "0    121 lbs\n",
       "1    157 lbs\n",
       "2    148 lbs\n",
       "3    150 lbs\n",
       "4        NaN\n",
       "Name: weight, dtype: object"
      ]
     },
     "execution_count": 213,
     "metadata": {},
     "output_type": "execute_result"
    }
   ],
   "source": [
    "# Grab uncleaned weight\n",
    "uncleaned_weight = athelete_stats_df[\"weight\"]\n",
    "uncleaned_weight.head(5)"
   ]
  },
  {
   "cell_type": "code",
   "execution_count": 214,
   "metadata": {},
   "outputs": [
    {
     "data": {
      "text/html": [
       "<div>\n",
       "<style scoped>\n",
       "    .dataframe tbody tr th:only-of-type {\n",
       "        vertical-align: middle;\n",
       "    }\n",
       "\n",
       "    .dataframe tbody tr th {\n",
       "        vertical-align: top;\n",
       "    }\n",
       "\n",
       "    .dataframe thead th {\n",
       "        text-align: right;\n",
       "    }\n",
       "</style>\n",
       "<table border=\"1\" class=\"dataframe\">\n",
       "  <thead>\n",
       "    <tr style=\"text-align: right;\">\n",
       "      <th></th>\n",
       "      <th>0</th>\n",
       "      <th>1</th>\n",
       "    </tr>\n",
       "  </thead>\n",
       "  <tbody>\n",
       "    <tr>\n",
       "      <th>0</th>\n",
       "      <td>121</td>\n",
       "      <td>lbs</td>\n",
       "    </tr>\n",
       "    <tr>\n",
       "      <th>1</th>\n",
       "      <td>157</td>\n",
       "      <td>lbs</td>\n",
       "    </tr>\n",
       "    <tr>\n",
       "      <th>2</th>\n",
       "      <td>148</td>\n",
       "      <td>lbs</td>\n",
       "    </tr>\n",
       "    <tr>\n",
       "      <th>3</th>\n",
       "      <td>150</td>\n",
       "      <td>lbs</td>\n",
       "    </tr>\n",
       "    <tr>\n",
       "      <th>4</th>\n",
       "      <td>NaN</td>\n",
       "      <td>NaN</td>\n",
       "    </tr>\n",
       "  </tbody>\n",
       "</table>\n",
       "</div>"
      ],
      "text/plain": [
       "     0    1\n",
       "0  121  lbs\n",
       "1  157  lbs\n",
       "2  148  lbs\n",
       "3  150  lbs\n",
       "4  NaN  NaN"
      ]
     },
     "execution_count": 214,
     "metadata": {},
     "output_type": "execute_result"
    }
   ],
   "source": [
    "# Split weights\n",
    "split_weights = uncleaned_weight.str.split(' ', n=1, expand=True)\n",
    "split_weights.head(5)"
   ]
  },
  {
   "cell_type": "code",
   "execution_count": 215,
   "metadata": {},
   "outputs": [
    {
     "data": {
      "text/plain": [
       "0    121\n",
       "1    157\n",
       "2    148\n",
       "3    150\n",
       "4    NaN\n",
       "Name: 0, dtype: object"
      ]
     },
     "execution_count": 215,
     "metadata": {},
     "output_type": "execute_result"
    }
   ],
   "source": [
    "# Display cleaned data\n",
    "new_weight = split_weights[0]\n",
    "new_weight.head(5)"
   ]
  },
  {
   "cell_type": "markdown",
   "metadata": {},
   "source": [
    "#### Convert Dates"
   ]
  },
  {
   "cell_type": "code",
   "execution_count": 216,
   "metadata": {},
   "outputs": [],
   "source": [
    "# Split Current Dates\n",
    "split_birthdates = athelete_stats_df[\"birthdate\"]\n",
    "split_birthdates = split_birthdates.str.split(\"T\", n=1, expand=True)"
   ]
  },
  {
   "cell_type": "code",
   "execution_count": 217,
   "metadata": {},
   "outputs": [
    {
     "data": {
      "text/plain": [
       "0    2000-08-10\n",
       "1    1988-06-28\n",
       "2    1983-06-12\n",
       "3    1989-11-20\n",
       "4    1988-01-02\n",
       "Name: 0, dtype: object"
      ]
     },
     "execution_count": 217,
     "metadata": {},
     "output_type": "execute_result"
    }
   ],
   "source": [
    "# Select only the part we want to keep\n",
    "split_birthdates = split_birthdates [0]\n",
    "split_birthdates.head(5)"
   ]
  },
  {
   "cell_type": "code",
   "execution_count": 218,
   "metadata": {},
   "outputs": [
    {
     "data": {
      "text/plain": [
       "0   2000-08-10\n",
       "1   1988-06-28\n",
       "2   1983-06-12\n",
       "3   1989-11-20\n",
       "4   1988-01-02\n",
       "Name: 0, dtype: datetime64[ns]"
      ]
     },
     "execution_count": 218,
     "metadata": {},
     "output_type": "execute_result"
    }
   ],
   "source": [
    "# Convert the dates to datetime\n",
    "split_birthdates = pd.to_datetime(split_birthdates)\n",
    "split_birthdates.head(5)"
   ]
  },
  {
   "cell_type": "code",
   "execution_count": 219,
   "metadata": {},
   "outputs": [
    {
     "data": {
      "text/plain": [
       "pandas._libs.tslibs.timestamps.Timestamp"
      ]
     },
     "execution_count": 219,
     "metadata": {},
     "output_type": "execute_result"
    }
   ],
   "source": [
    "# Check dates converted to timestamps\n",
    "type (split_birthdates[0])"
   ]
  },
  {
   "cell_type": "code",
   "execution_count": 220,
   "metadata": {},
   "outputs": [
    {
     "data": {
      "text/plain": [
       "0   2000-08-10\n",
       "1   1988-06-28\n",
       "2   1983-06-12\n",
       "3   1989-11-20\n",
       "4   1988-01-02\n",
       "Name: 0, dtype: datetime64[ns]"
      ]
     },
     "execution_count": 220,
     "metadata": {},
     "output_type": "execute_result"
    }
   ],
   "source": [
    "# Display cleaned data\n",
    "new_birthdates = split_birthdates\n",
    "new_birthdates.head(5)"
   ]
  },
  {
   "cell_type": "markdown",
   "metadata": {},
   "source": [
    "#### Remove \"Goals Against\" and \"Clean Sheets\" for Non-Goalies"
   ]
  },
  {
   "cell_type": "code",
   "execution_count": 221,
   "metadata": {},
   "outputs": [],
   "source": [
    "# Remove goals against and clean sheets for non-goalies\n",
    "new_goals_against = []\n",
    "new_clean_sheets = []\n",
    "\n",
    "for index, row in athelete_stats_df.iterrows():\n",
    "    cur_position = row[\"position\"]\n",
    "    cur_goals_against = row[\"goals_against\"]\n",
    "    cur_clean_sheets = row[\"clean_sheets\"]\n",
    "    \n",
    "    if cur_position == \"Goalkeeper\":\n",
    "        new_goals_against.append(cur_goals_against)\n",
    "        new_clean_sheets.append(cur_clean_sheets)\n",
    "    else:\n",
    "        new_goals_against.append(0)\n",
    "        new_clean_sheets.append(0)\n"
   ]
  },
  {
   "cell_type": "markdown",
   "metadata": {},
   "source": [
    "#### Creating Cleaned Dataframe"
   ]
  },
  {
   "cell_type": "code",
   "execution_count": 222,
   "metadata": {},
   "outputs": [
    {
     "data": {
      "text/html": [
       "<div>\n",
       "<style scoped>\n",
       "    .dataframe tbody tr th:only-of-type {\n",
       "        vertical-align: middle;\n",
       "    }\n",
       "\n",
       "    .dataframe tbody tr th {\n",
       "        vertical-align: top;\n",
       "    }\n",
       "\n",
       "    .dataframe thead th {\n",
       "        text-align: right;\n",
       "    }\n",
       "</style>\n",
       "<table border=\"1\" class=\"dataframe\">\n",
       "  <thead>\n",
       "    <tr style=\"text-align: right;\">\n",
       "      <th></th>\n",
       "      <th>player_name</th>\n",
       "      <th>team</th>\n",
       "      <th>league</th>\n",
       "      <th>position</th>\n",
       "      <th>jersey_number</th>\n",
       "      <th>goals</th>\n",
       "      <th>assists</th>\n",
       "      <th>yellow_cards</th>\n",
       "      <th>red_cards</th>\n",
       "      <th>shots</th>\n",
       "      <th>shots_on_goal</th>\n",
       "      <th>saves</th>\n",
       "      <th>photo_url</th>\n",
       "      <th>nationality</th>\n",
       "    </tr>\n",
       "  </thead>\n",
       "  <tbody>\n",
       "    <tr>\n",
       "      <th>0</th>\n",
       "      <td>Sophia Smith</td>\n",
       "      <td>Portland Thorns FC</td>\n",
       "      <td>nwsl</td>\n",
       "      <td>Forward</td>\n",
       "      <td>9.0</td>\n",
       "      <td>11</td>\n",
       "      <td>5</td>\n",
       "      <td>2</td>\n",
       "      <td>0</td>\n",
       "      <td>75</td>\n",
       "      <td>39</td>\n",
       "      <td>0</td>\n",
       "      <td>https://d2nkt8hgeld8zj.cloudfront.net\\images\\2...</td>\n",
       "      <td>USA</td>\n",
       "    </tr>\n",
       "    <tr>\n",
       "      <th>1</th>\n",
       "      <td>Sophie Schmidt</td>\n",
       "      <td>Houston Dash</td>\n",
       "      <td>nwsl</td>\n",
       "      <td>Midfielder</td>\n",
       "      <td>13.0</td>\n",
       "      <td>0</td>\n",
       "      <td>0</td>\n",
       "      <td>3</td>\n",
       "      <td>0</td>\n",
       "      <td>17</td>\n",
       "      <td>3</td>\n",
       "      <td>0</td>\n",
       "      <td>https://d2nkt8hgeld8zj.cloudfront.net\\images\\2...</td>\n",
       "      <td>Canada</td>\n",
       "    </tr>\n",
       "    <tr>\n",
       "      <th>2</th>\n",
       "      <td>Christine Sinclair</td>\n",
       "      <td>Portland Thorns FC</td>\n",
       "      <td>nwsl</td>\n",
       "      <td>Forward</td>\n",
       "      <td>12.0</td>\n",
       "      <td>3</td>\n",
       "      <td>1</td>\n",
       "      <td>0</td>\n",
       "      <td>0</td>\n",
       "      <td>27</td>\n",
       "      <td>10</td>\n",
       "      <td>0</td>\n",
       "      <td>https://d2nkt8hgeld8zj.cloudfront.net\\images\\2...</td>\n",
       "      <td>Canada</td>\n",
       "    </tr>\n",
       "    <tr>\n",
       "      <th>3</th>\n",
       "      <td>Abby Erceg</td>\n",
       "      <td>Racing Louisville FC</td>\n",
       "      <td>nwsl</td>\n",
       "      <td>Defender</td>\n",
       "      <td>20.0</td>\n",
       "      <td>2</td>\n",
       "      <td>0</td>\n",
       "      <td>1</td>\n",
       "      <td>0</td>\n",
       "      <td>15</td>\n",
       "      <td>6</td>\n",
       "      <td>0</td>\n",
       "      <td>https://d2nkt8hgeld8zj.cloudfront.net\\images\\2...</td>\n",
       "      <td>New Zealand</td>\n",
       "    </tr>\n",
       "    <tr>\n",
       "      <th>4</th>\n",
       "      <td>Nadia Nadim</td>\n",
       "      <td>Racing Louisville FC</td>\n",
       "      <td>nwsl</td>\n",
       "      <td>Forward</td>\n",
       "      <td>10.0</td>\n",
       "      <td>1</td>\n",
       "      <td>0</td>\n",
       "      <td>0</td>\n",
       "      <td>0</td>\n",
       "      <td>14</td>\n",
       "      <td>5</td>\n",
       "      <td>0</td>\n",
       "      <td>https://d2nkt8hgeld8zj.cloudfront.net\\images\\2...</td>\n",
       "      <td>Denmark</td>\n",
       "    </tr>\n",
       "  </tbody>\n",
       "</table>\n",
       "</div>"
      ],
      "text/plain": [
       "          player_name                  team league    position  jersey_number  \\\n",
       "0        Sophia Smith    Portland Thorns FC   nwsl     Forward            9.0   \n",
       "1      Sophie Schmidt          Houston Dash   nwsl  Midfielder           13.0   \n",
       "2  Christine Sinclair    Portland Thorns FC   nwsl     Forward           12.0   \n",
       "3          Abby Erceg  Racing Louisville FC   nwsl    Defender           20.0   \n",
       "4         Nadia Nadim  Racing Louisville FC   nwsl     Forward           10.0   \n",
       "\n",
       "   goals  assists  yellow_cards  red_cards  shots  shots_on_goal  saves  \\\n",
       "0     11        5             2          0     75             39      0   \n",
       "1      0        0             3          0     17              3      0   \n",
       "2      3        1             0          0     27             10      0   \n",
       "3      2        0             1          0     15              6      0   \n",
       "4      1        0             0          0     14              5      0   \n",
       "\n",
       "                                           photo_url  nationality  \n",
       "0  https://d2nkt8hgeld8zj.cloudfront.net\\images\\2...          USA  \n",
       "1  https://d2nkt8hgeld8zj.cloudfront.net\\images\\2...       Canada  \n",
       "2  https://d2nkt8hgeld8zj.cloudfront.net\\images\\2...       Canada  \n",
       "3  https://d2nkt8hgeld8zj.cloudfront.net\\images\\2...  New Zealand  \n",
       "4  https://d2nkt8hgeld8zj.cloudfront.net\\images\\2...      Denmark  "
      ]
     },
     "execution_count": 222,
     "metadata": {},
     "output_type": "execute_result"
    }
   ],
   "source": [
    "# Remove unclean sections from dataframe\n",
    "athelete_stats_df = athelete_stats_df.drop([\"birthdate\"], axis=1)\n",
    "athelete_stats_df = athelete_stats_df.drop([\"height\"], axis=1)\n",
    "athelete_stats_df = athelete_stats_df.drop([\"weight\"], axis=1)\n",
    "athelete_stats_df = athelete_stats_df.drop([\"goals_against\"], axis=1)\n",
    "athelete_stats_df = athelete_stats_df.drop([\"clean_sheets\"], axis=1)\n",
    "athelete_stats_df.head()"
   ]
  },
  {
   "cell_type": "code",
   "execution_count": 223,
   "metadata": {},
   "outputs": [
    {
     "data": {
      "text/html": [
       "<div>\n",
       "<style scoped>\n",
       "    .dataframe tbody tr th:only-of-type {\n",
       "        vertical-align: middle;\n",
       "    }\n",
       "\n",
       "    .dataframe tbody tr th {\n",
       "        vertical-align: top;\n",
       "    }\n",
       "\n",
       "    .dataframe thead th {\n",
       "        text-align: right;\n",
       "    }\n",
       "</style>\n",
       "<table border=\"1\" class=\"dataframe\">\n",
       "  <thead>\n",
       "    <tr style=\"text-align: right;\">\n",
       "      <th></th>\n",
       "      <th>player_name</th>\n",
       "      <th>team</th>\n",
       "      <th>league</th>\n",
       "      <th>position</th>\n",
       "      <th>jersey_number</th>\n",
       "      <th>goals</th>\n",
       "      <th>assists</th>\n",
       "      <th>yellow_cards</th>\n",
       "      <th>red_cards</th>\n",
       "      <th>shots</th>\n",
       "      <th>shots_on_goal</th>\n",
       "      <th>saves</th>\n",
       "      <th>photo_url</th>\n",
       "      <th>nationality</th>\n",
       "      <th>birthdate</th>\n",
       "      <th>height_(ft)</th>\n",
       "      <th>weight_(lbs)</th>\n",
       "      <th>goals_against</th>\n",
       "      <th>clean_sheets</th>\n",
       "    </tr>\n",
       "  </thead>\n",
       "  <tbody>\n",
       "    <tr>\n",
       "      <th>0</th>\n",
       "      <td>Sophia Smith</td>\n",
       "      <td>Portland Thorns FC</td>\n",
       "      <td>nwsl</td>\n",
       "      <td>Forward</td>\n",
       "      <td>9.0</td>\n",
       "      <td>11</td>\n",
       "      <td>5</td>\n",
       "      <td>2</td>\n",
       "      <td>0</td>\n",
       "      <td>75</td>\n",
       "      <td>39</td>\n",
       "      <td>0</td>\n",
       "      <td>https://d2nkt8hgeld8zj.cloudfront.net\\images\\2...</td>\n",
       "      <td>USA</td>\n",
       "      <td>2000-08-10</td>\n",
       "      <td>5.50</td>\n",
       "      <td>121</td>\n",
       "      <td>0</td>\n",
       "      <td>0</td>\n",
       "    </tr>\n",
       "    <tr>\n",
       "      <th>1</th>\n",
       "      <td>Sophie Schmidt</td>\n",
       "      <td>Houston Dash</td>\n",
       "      <td>nwsl</td>\n",
       "      <td>Midfielder</td>\n",
       "      <td>13.0</td>\n",
       "      <td>0</td>\n",
       "      <td>0</td>\n",
       "      <td>3</td>\n",
       "      <td>0</td>\n",
       "      <td>17</td>\n",
       "      <td>3</td>\n",
       "      <td>0</td>\n",
       "      <td>https://d2nkt8hgeld8zj.cloudfront.net\\images\\2...</td>\n",
       "      <td>Canada</td>\n",
       "      <td>1988-06-28</td>\n",
       "      <td>5.67</td>\n",
       "      <td>157</td>\n",
       "      <td>0</td>\n",
       "      <td>0</td>\n",
       "    </tr>\n",
       "    <tr>\n",
       "      <th>2</th>\n",
       "      <td>Christine Sinclair</td>\n",
       "      <td>Portland Thorns FC</td>\n",
       "      <td>nwsl</td>\n",
       "      <td>Forward</td>\n",
       "      <td>12.0</td>\n",
       "      <td>3</td>\n",
       "      <td>1</td>\n",
       "      <td>0</td>\n",
       "      <td>0</td>\n",
       "      <td>27</td>\n",
       "      <td>10</td>\n",
       "      <td>0</td>\n",
       "      <td>https://d2nkt8hgeld8zj.cloudfront.net\\images\\2...</td>\n",
       "      <td>Canada</td>\n",
       "      <td>1983-06-12</td>\n",
       "      <td>5.75</td>\n",
       "      <td>148</td>\n",
       "      <td>0</td>\n",
       "      <td>0</td>\n",
       "    </tr>\n",
       "    <tr>\n",
       "      <th>3</th>\n",
       "      <td>Abby Erceg</td>\n",
       "      <td>Racing Louisville FC</td>\n",
       "      <td>nwsl</td>\n",
       "      <td>Defender</td>\n",
       "      <td>20.0</td>\n",
       "      <td>2</td>\n",
       "      <td>0</td>\n",
       "      <td>1</td>\n",
       "      <td>0</td>\n",
       "      <td>15</td>\n",
       "      <td>6</td>\n",
       "      <td>0</td>\n",
       "      <td>https://d2nkt8hgeld8zj.cloudfront.net\\images\\2...</td>\n",
       "      <td>New Zealand</td>\n",
       "      <td>1989-11-20</td>\n",
       "      <td>5.83</td>\n",
       "      <td>150</td>\n",
       "      <td>0</td>\n",
       "      <td>0</td>\n",
       "    </tr>\n",
       "    <tr>\n",
       "      <th>4</th>\n",
       "      <td>Nadia Nadim</td>\n",
       "      <td>Racing Louisville FC</td>\n",
       "      <td>nwsl</td>\n",
       "      <td>Forward</td>\n",
       "      <td>10.0</td>\n",
       "      <td>1</td>\n",
       "      <td>0</td>\n",
       "      <td>0</td>\n",
       "      <td>0</td>\n",
       "      <td>14</td>\n",
       "      <td>5</td>\n",
       "      <td>0</td>\n",
       "      <td>https://d2nkt8hgeld8zj.cloudfront.net\\images\\2...</td>\n",
       "      <td>Denmark</td>\n",
       "      <td>1988-01-02</td>\n",
       "      <td>5.75</td>\n",
       "      <td>NaN</td>\n",
       "      <td>0</td>\n",
       "      <td>0</td>\n",
       "    </tr>\n",
       "  </tbody>\n",
       "</table>\n",
       "</div>"
      ],
      "text/plain": [
       "          player_name                  team league    position  jersey_number  \\\n",
       "0        Sophia Smith    Portland Thorns FC   nwsl     Forward            9.0   \n",
       "1      Sophie Schmidt          Houston Dash   nwsl  Midfielder           13.0   \n",
       "2  Christine Sinclair    Portland Thorns FC   nwsl     Forward           12.0   \n",
       "3          Abby Erceg  Racing Louisville FC   nwsl    Defender           20.0   \n",
       "4         Nadia Nadim  Racing Louisville FC   nwsl     Forward           10.0   \n",
       "\n",
       "   goals  assists  yellow_cards  red_cards  shots  shots_on_goal  saves  \\\n",
       "0     11        5             2          0     75             39      0   \n",
       "1      0        0             3          0     17              3      0   \n",
       "2      3        1             0          0     27             10      0   \n",
       "3      2        0             1          0     15              6      0   \n",
       "4      1        0             0          0     14              5      0   \n",
       "\n",
       "                                           photo_url  nationality  birthdate  \\\n",
       "0  https://d2nkt8hgeld8zj.cloudfront.net\\images\\2...          USA 2000-08-10   \n",
       "1  https://d2nkt8hgeld8zj.cloudfront.net\\images\\2...       Canada 1988-06-28   \n",
       "2  https://d2nkt8hgeld8zj.cloudfront.net\\images\\2...       Canada 1983-06-12   \n",
       "3  https://d2nkt8hgeld8zj.cloudfront.net\\images\\2...  New Zealand 1989-11-20   \n",
       "4  https://d2nkt8hgeld8zj.cloudfront.net\\images\\2...      Denmark 1988-01-02   \n",
       "\n",
       "   height_(ft) weight_(lbs)  goals_against  clean_sheets  \n",
       "0         5.50          121              0             0  \n",
       "1         5.67          157              0             0  \n",
       "2         5.75          148              0             0  \n",
       "3         5.83          150              0             0  \n",
       "4         5.75          NaN              0             0  "
      ]
     },
     "execution_count": 223,
     "metadata": {},
     "output_type": "execute_result"
    }
   ],
   "source": [
    "# Add clean sections to dataframe\n",
    "athelete_stats_df[\"birthdate\"] = new_birthdates\n",
    "athelete_stats_df[\"height_(ft)\"] = new_height\n",
    "athelete_stats_df[\"weight_(lbs)\"] = new_weight\n",
    "athelete_stats_df[\"goals_against\"] = new_goals_against\n",
    "athelete_stats_df[\"clean_sheets\"] = new_clean_sheets\n",
    "athelete_stats_df.head()"
   ]
  },
  {
   "cell_type": "code",
   "execution_count": 226,
   "metadata": {},
   "outputs": [
    {
     "data": {
      "text/html": [
       "<div>\n",
       "<style scoped>\n",
       "    .dataframe tbody tr th:only-of-type {\n",
       "        vertical-align: middle;\n",
       "    }\n",
       "\n",
       "    .dataframe tbody tr th {\n",
       "        vertical-align: top;\n",
       "    }\n",
       "\n",
       "    .dataframe thead th {\n",
       "        text-align: right;\n",
       "    }\n",
       "</style>\n",
       "<table border=\"1\" class=\"dataframe\">\n",
       "  <thead>\n",
       "    <tr style=\"text-align: right;\">\n",
       "      <th></th>\n",
       "      <th>player_name</th>\n",
       "      <th>team</th>\n",
       "      <th>league</th>\n",
       "      <th>position</th>\n",
       "      <th>jersey_number</th>\n",
       "      <th>goals</th>\n",
       "      <th>assists</th>\n",
       "      <th>yellow_cards</th>\n",
       "      <th>red_cards</th>\n",
       "      <th>shots</th>\n",
       "      <th>shots_on_goal</th>\n",
       "      <th>saves</th>\n",
       "      <th>clean_sheets</th>\n",
       "      <th>goals_against</th>\n",
       "      <th>photo_url</th>\n",
       "      <th>height_(ft)</th>\n",
       "      <th>weight_(lbs)</th>\n",
       "      <th>birthdate</th>\n",
       "      <th>nationality</th>\n",
       "    </tr>\n",
       "  </thead>\n",
       "  <tbody>\n",
       "    <tr>\n",
       "      <th>0</th>\n",
       "      <td>Sophia Smith</td>\n",
       "      <td>Portland Thorns FC</td>\n",
       "      <td>nwsl</td>\n",
       "      <td>Forward</td>\n",
       "      <td>9.0</td>\n",
       "      <td>11</td>\n",
       "      <td>5</td>\n",
       "      <td>2</td>\n",
       "      <td>0</td>\n",
       "      <td>75</td>\n",
       "      <td>39</td>\n",
       "      <td>0</td>\n",
       "      <td>0</td>\n",
       "      <td>0</td>\n",
       "      <td>https://d2nkt8hgeld8zj.cloudfront.net\\images\\2...</td>\n",
       "      <td>5.50</td>\n",
       "      <td>121</td>\n",
       "      <td>2000-08-10</td>\n",
       "      <td>USA</td>\n",
       "    </tr>\n",
       "    <tr>\n",
       "      <th>1</th>\n",
       "      <td>Sophie Schmidt</td>\n",
       "      <td>Houston Dash</td>\n",
       "      <td>nwsl</td>\n",
       "      <td>Midfielder</td>\n",
       "      <td>13.0</td>\n",
       "      <td>0</td>\n",
       "      <td>0</td>\n",
       "      <td>3</td>\n",
       "      <td>0</td>\n",
       "      <td>17</td>\n",
       "      <td>3</td>\n",
       "      <td>0</td>\n",
       "      <td>0</td>\n",
       "      <td>0</td>\n",
       "      <td>https://d2nkt8hgeld8zj.cloudfront.net\\images\\2...</td>\n",
       "      <td>5.67</td>\n",
       "      <td>157</td>\n",
       "      <td>1988-06-28</td>\n",
       "      <td>Canada</td>\n",
       "    </tr>\n",
       "    <tr>\n",
       "      <th>2</th>\n",
       "      <td>Christine Sinclair</td>\n",
       "      <td>Portland Thorns FC</td>\n",
       "      <td>nwsl</td>\n",
       "      <td>Forward</td>\n",
       "      <td>12.0</td>\n",
       "      <td>3</td>\n",
       "      <td>1</td>\n",
       "      <td>0</td>\n",
       "      <td>0</td>\n",
       "      <td>27</td>\n",
       "      <td>10</td>\n",
       "      <td>0</td>\n",
       "      <td>0</td>\n",
       "      <td>0</td>\n",
       "      <td>https://d2nkt8hgeld8zj.cloudfront.net\\images\\2...</td>\n",
       "      <td>5.75</td>\n",
       "      <td>148</td>\n",
       "      <td>1983-06-12</td>\n",
       "      <td>Canada</td>\n",
       "    </tr>\n",
       "    <tr>\n",
       "      <th>3</th>\n",
       "      <td>Abby Erceg</td>\n",
       "      <td>Racing Louisville FC</td>\n",
       "      <td>nwsl</td>\n",
       "      <td>Defender</td>\n",
       "      <td>20.0</td>\n",
       "      <td>2</td>\n",
       "      <td>0</td>\n",
       "      <td>1</td>\n",
       "      <td>0</td>\n",
       "      <td>15</td>\n",
       "      <td>6</td>\n",
       "      <td>0</td>\n",
       "      <td>0</td>\n",
       "      <td>0</td>\n",
       "      <td>https://d2nkt8hgeld8zj.cloudfront.net\\images\\2...</td>\n",
       "      <td>5.83</td>\n",
       "      <td>150</td>\n",
       "      <td>1989-11-20</td>\n",
       "      <td>New Zealand</td>\n",
       "    </tr>\n",
       "    <tr>\n",
       "      <th>4</th>\n",
       "      <td>Nadia Nadim</td>\n",
       "      <td>Racing Louisville FC</td>\n",
       "      <td>nwsl</td>\n",
       "      <td>Forward</td>\n",
       "      <td>10.0</td>\n",
       "      <td>1</td>\n",
       "      <td>0</td>\n",
       "      <td>0</td>\n",
       "      <td>0</td>\n",
       "      <td>14</td>\n",
       "      <td>5</td>\n",
       "      <td>0</td>\n",
       "      <td>0</td>\n",
       "      <td>0</td>\n",
       "      <td>https://d2nkt8hgeld8zj.cloudfront.net\\images\\2...</td>\n",
       "      <td>5.75</td>\n",
       "      <td>NaN</td>\n",
       "      <td>1988-01-02</td>\n",
       "      <td>Denmark</td>\n",
       "    </tr>\n",
       "  </tbody>\n",
       "</table>\n",
       "</div>"
      ],
      "text/plain": [
       "          player_name                  team league    position  jersey_number  \\\n",
       "0        Sophia Smith    Portland Thorns FC   nwsl     Forward            9.0   \n",
       "1      Sophie Schmidt          Houston Dash   nwsl  Midfielder           13.0   \n",
       "2  Christine Sinclair    Portland Thorns FC   nwsl     Forward           12.0   \n",
       "3          Abby Erceg  Racing Louisville FC   nwsl    Defender           20.0   \n",
       "4         Nadia Nadim  Racing Louisville FC   nwsl     Forward           10.0   \n",
       "\n",
       "   goals  assists  yellow_cards  red_cards  shots  shots_on_goal  saves  \\\n",
       "0     11        5             2          0     75             39      0   \n",
       "1      0        0             3          0     17              3      0   \n",
       "2      3        1             0          0     27             10      0   \n",
       "3      2        0             1          0     15              6      0   \n",
       "4      1        0             0          0     14              5      0   \n",
       "\n",
       "   clean_sheets  goals_against  \\\n",
       "0             0              0   \n",
       "1             0              0   \n",
       "2             0              0   \n",
       "3             0              0   \n",
       "4             0              0   \n",
       "\n",
       "                                           photo_url  height_(ft)  \\\n",
       "0  https://d2nkt8hgeld8zj.cloudfront.net\\images\\2...         5.50   \n",
       "1  https://d2nkt8hgeld8zj.cloudfront.net\\images\\2...         5.67   \n",
       "2  https://d2nkt8hgeld8zj.cloudfront.net\\images\\2...         5.75   \n",
       "3  https://d2nkt8hgeld8zj.cloudfront.net\\images\\2...         5.83   \n",
       "4  https://d2nkt8hgeld8zj.cloudfront.net\\images\\2...         5.75   \n",
       "\n",
       "  weight_(lbs)  birthdate  nationality  \n",
       "0          121 2000-08-10          USA  \n",
       "1          157 1988-06-28       Canada  \n",
       "2          148 1983-06-12       Canada  \n",
       "3          150 1989-11-20  New Zealand  \n",
       "4          NaN 1988-01-02      Denmark  "
      ]
     },
     "execution_count": 226,
     "metadata": {},
     "output_type": "execute_result"
    }
   ],
   "source": [
    "# Reorder dataframe\n",
    "athelete_stats_df = athelete_stats_df[[\"player_name\",\n",
    "                                       \"team\",\n",
    "                                       \"league\",\n",
    "                                       \"position\",\n",
    "                                       \"jersey_number\",\n",
    "                                       \"goals\",\n",
    "                                       \"assists\",\n",
    "                                       \"yellow_cards\",\n",
    "                                       \"red_cards\",\n",
    "                                       \"shots\",\n",
    "                                       \"shots_on_goal\",\n",
    "                                       \"saves\",\n",
    "                                       \"clean_sheets\",\n",
    "                                       \"goals_against\",\n",
    "                                       \"photo_url\",\n",
    "                                       \"height_(ft)\",\n",
    "                                       \"weight_(lbs)\",\n",
    "                                       \"birthdate\",\n",
    "                                       \"nationality\"\n",
    "                                       ]]\n",
    "athelete_stats_df.head()"
   ]
  },
  {
   "cell_type": "markdown",
   "metadata": {},
   "source": [
    "### Creating Dataframes for SQL Tables:\n",
    "---"
   ]
  },
  {
   "cell_type": "markdown",
   "metadata": {},
   "source": [
    "#### Creating Leagues Dataframe"
   ]
  },
  {
   "cell_type": "code",
   "execution_count": 245,
   "metadata": {},
   "outputs": [
    {
     "data": {
      "text/html": [
       "<div>\n",
       "<style scoped>\n",
       "    .dataframe tbody tr th:only-of-type {\n",
       "        vertical-align: middle;\n",
       "    }\n",
       "\n",
       "    .dataframe tbody tr th {\n",
       "        vertical-align: top;\n",
       "    }\n",
       "\n",
       "    .dataframe thead th {\n",
       "        text-align: right;\n",
       "    }\n",
       "</style>\n",
       "<table border=\"1\" class=\"dataframe\">\n",
       "  <thead>\n",
       "    <tr style=\"text-align: right;\">\n",
       "      <th></th>\n",
       "      <th>league_id</th>\n",
       "      <th>league</th>\n",
       "    </tr>\n",
       "  </thead>\n",
       "  <tbody>\n",
       "    <tr>\n",
       "      <th>0</th>\n",
       "      <td>league1</td>\n",
       "      <td>nwsl</td>\n",
       "    </tr>\n",
       "  </tbody>\n",
       "</table>\n",
       "</div>"
      ],
      "text/plain": [
       "  league_id league\n",
       "0   league1   nwsl"
      ]
     },
     "execution_count": 245,
     "metadata": {},
     "output_type": "execute_result"
    }
   ],
   "source": [
    "leagues = athelete_stats_df[\"league\"].unique()\n",
    "leagues_df = pd.DataFrame(leagues)\n",
    "leagues_df = leagues_df.reset_index()\n",
    "leagues_df = leagues_df.rename(columns={\"index\":\"league_id\", 0:\"league\"})\n",
    "leagues_df[\"league_id\"] = leagues_df[\"league_id\"]+1\n",
    "leagues_df[\"league_id\"] = [\"league\" + str(league_id) for league_id in leagues_df[\"league_id\"]]\n",
    "leagues_df"
   ]
  },
  {
   "cell_type": "markdown",
   "metadata": {},
   "source": [
    "### Exports:\n",
    "---"
   ]
  },
  {
   "cell_type": "code",
   "execution_count": null,
   "metadata": {},
   "outputs": [],
   "source": [
    "# Export CSV 1-Player Data"
   ]
  },
  {
   "cell_type": "code",
   "execution_count": null,
   "metadata": {},
   "outputs": [],
   "source": [
    "# Export CSV 2-Teams Data"
   ]
  },
  {
   "cell_type": "code",
   "execution_count": null,
   "metadata": {},
   "outputs": [],
   "source": [
    "# Export CSV 3-Leagues Data"
   ]
  },
  {
   "cell_type": "code",
   "execution_count": null,
   "metadata": {},
   "outputs": [],
   "source": [
    "# Export CSV 4-Positions Data"
   ]
  },
  {
   "cell_type": "code",
   "execution_count": null,
   "metadata": {},
   "outputs": [],
   "source": [
    "# Export CSV 5-Nationalities Data"
   ]
  }
 ],
 "metadata": {
  "kernelspec": {
   "display_name": "PythonData",
   "language": "python",
   "name": "python3"
  },
  "language_info": {
   "codemirror_mode": {
    "name": "ipython",
    "version": 3
   },
   "file_extension": ".py",
   "mimetype": "text/x-python",
   "name": "python",
   "nbconvert_exporter": "python",
   "pygments_lexer": "ipython3",
   "version": "3.7.7"
  }
 },
 "nbformat": 4,
 "nbformat_minor": 2
}
